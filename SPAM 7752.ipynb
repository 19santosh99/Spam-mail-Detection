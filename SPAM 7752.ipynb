{
 "cells": [
  {
   "cell_type": "code",
   "execution_count": 1,
   "metadata": {},
   "outputs": [],
   "source": [
    "import pandas as pd\n",
    "import matplotlib.pyplot as plt\n",
    "import numpy as np\n",
    "import re\n",
    "from nltk.corpus import stopwords\n",
    "from nltk.stem import PorterStemmer\n",
    "import seaborn as sns"
   ]
  },
  {
   "cell_type": "code",
   "execution_count": 2,
   "metadata": {},
   "outputs": [
    {
     "name": "stderr",
     "output_type": "stream",
     "text": [
      "C:\\Users\\retr0man99\\Anaconda3\\lib\\site-packages\\pandas\\core\\indexes\\api.py:107: RuntimeWarning: '<' not supported between instances of 'str' and 'int', sort order is undefined for incomparable objects\n",
      "  result = result.union(other)\n"
     ]
    }
   ],
   "source": [
    "data = pd.read_csv(\"spam.csv\",encoding = 'latin1')\n",
    "data = data[['v1', 'v2']]\n",
    "data = data.rename(columns = {'v1': 'type', 'v2': 'email'})\n",
    "\n",
    "\n",
    "data1 = pd.read_csv(\"m_spam.csv\",header = None)\n",
    "\n",
    "dataset = pd.concat([data,data1])\n",
    "dataset['type'] = dataset['type'].replace('ham','Ham')\n",
    "dataset['type'] = dataset[\"type\"].replace(\"spam\",\"Spam\")\n",
    "\n",
    "\n",
    "dataset = pd.read_csv('dataset.csv')"
   ]
  },
  {
   "cell_type": "code",
   "execution_count": 3,
   "metadata": {
    "scrolled": true
   },
   "outputs": [
    {
     "data": {
      "text/html": [
       "<div>\n",
       "<style scoped>\n",
       "    .dataframe tbody tr th:only-of-type {\n",
       "        vertical-align: middle;\n",
       "    }\n",
       "\n",
       "    .dataframe tbody tr th {\n",
       "        vertical-align: top;\n",
       "    }\n",
       "\n",
       "    .dataframe thead th {\n",
       "        text-align: right;\n",
       "    }\n",
       "</style>\n",
       "<table border=\"1\" class=\"dataframe\">\n",
       "  <thead>\n",
       "    <tr style=\"text-align: right;\">\n",
       "      <th></th>\n",
       "      <th>type</th>\n",
       "      <th>email</th>\n",
       "    </tr>\n",
       "  </thead>\n",
       "  <tbody>\n",
       "    <tr>\n",
       "      <th>0</th>\n",
       "      <td>Ham</td>\n",
       "      <td>Go until jurong point, crazy.. Available only ...</td>\n",
       "    </tr>\n",
       "    <tr>\n",
       "      <th>1</th>\n",
       "      <td>Ham</td>\n",
       "      <td>Ok lar... Joking wif u oni...</td>\n",
       "    </tr>\n",
       "    <tr>\n",
       "      <th>2</th>\n",
       "      <td>Spam</td>\n",
       "      <td>Free entry in 2 a wkly comp to win FA Cup fina...</td>\n",
       "    </tr>\n",
       "    <tr>\n",
       "      <th>3</th>\n",
       "      <td>Ham</td>\n",
       "      <td>U dun say so early hor... U c already then say...</td>\n",
       "    </tr>\n",
       "    <tr>\n",
       "      <th>4</th>\n",
       "      <td>Ham</td>\n",
       "      <td>Nah I don't think he goes to usf, he lives aro...</td>\n",
       "    </tr>\n",
       "    <tr>\n",
       "      <th>5</th>\n",
       "      <td>Spam</td>\n",
       "      <td>FreeMsg Hey there darling it's been 3 week's n...</td>\n",
       "    </tr>\n",
       "    <tr>\n",
       "      <th>6</th>\n",
       "      <td>Ham</td>\n",
       "      <td>Even my brother is not like to speak with me. ...</td>\n",
       "    </tr>\n",
       "    <tr>\n",
       "      <th>7</th>\n",
       "      <td>Ham</td>\n",
       "      <td>As per your request 'Melle Melle (Oru Minnamin...</td>\n",
       "    </tr>\n",
       "    <tr>\n",
       "      <th>8</th>\n",
       "      <td>Spam</td>\n",
       "      <td>WINNER!! As a valued network customer you have...</td>\n",
       "    </tr>\n",
       "    <tr>\n",
       "      <th>9</th>\n",
       "      <td>Spam</td>\n",
       "      <td>Had your mobile 11 months or more? U R entitle...</td>\n",
       "    </tr>\n",
       "    <tr>\n",
       "      <th>10</th>\n",
       "      <td>Ham</td>\n",
       "      <td>I'm gonna be home soon and i don't want to tal...</td>\n",
       "    </tr>\n",
       "    <tr>\n",
       "      <th>11</th>\n",
       "      <td>Spam</td>\n",
       "      <td>SIX chances to win CASH! From 100 to 20,000 po...</td>\n",
       "    </tr>\n",
       "    <tr>\n",
       "      <th>12</th>\n",
       "      <td>Spam</td>\n",
       "      <td>URGENT! You have won a 1 week FREE membership ...</td>\n",
       "    </tr>\n",
       "    <tr>\n",
       "      <th>13</th>\n",
       "      <td>Ham</td>\n",
       "      <td>I've been searching for the right words to tha...</td>\n",
       "    </tr>\n",
       "    <tr>\n",
       "      <th>14</th>\n",
       "      <td>Ham</td>\n",
       "      <td>I HAVE A DATE ON SUNDAY WITH WILL!!</td>\n",
       "    </tr>\n",
       "    <tr>\n",
       "      <th>15</th>\n",
       "      <td>Spam</td>\n",
       "      <td>XXXMobileMovieClub: To use your credit, click ...</td>\n",
       "    </tr>\n",
       "    <tr>\n",
       "      <th>16</th>\n",
       "      <td>Ham</td>\n",
       "      <td>Oh k...i'm watching here:)</td>\n",
       "    </tr>\n",
       "    <tr>\n",
       "      <th>17</th>\n",
       "      <td>Ham</td>\n",
       "      <td>Eh u remember how 2 spell his name... Yes i di...</td>\n",
       "    </tr>\n",
       "    <tr>\n",
       "      <th>18</th>\n",
       "      <td>Ham</td>\n",
       "      <td>Fine if thatåÕs the way u feel. ThatåÕs the wa...</td>\n",
       "    </tr>\n",
       "    <tr>\n",
       "      <th>19</th>\n",
       "      <td>Spam</td>\n",
       "      <td>England v Macedonia - dont miss the goals/team...</td>\n",
       "    </tr>\n",
       "    <tr>\n",
       "      <th>20</th>\n",
       "      <td>Ham</td>\n",
       "      <td>Is that seriously how you spell his name?</td>\n",
       "    </tr>\n",
       "    <tr>\n",
       "      <th>21</th>\n",
       "      <td>Ham</td>\n",
       "      <td>IÛ÷m going to try for 2 months ha ha only joking</td>\n",
       "    </tr>\n",
       "    <tr>\n",
       "      <th>22</th>\n",
       "      <td>Ham</td>\n",
       "      <td>So Ì_ pay first lar... Then when is da stock c...</td>\n",
       "    </tr>\n",
       "    <tr>\n",
       "      <th>23</th>\n",
       "      <td>Ham</td>\n",
       "      <td>Aft i finish my lunch then i go str down lor. ...</td>\n",
       "    </tr>\n",
       "    <tr>\n",
       "      <th>24</th>\n",
       "      <td>Ham</td>\n",
       "      <td>Ffffffffff. Alright no way I can meet up with ...</td>\n",
       "    </tr>\n",
       "    <tr>\n",
       "      <th>25</th>\n",
       "      <td>Ham</td>\n",
       "      <td>Just forced myself to eat a slice. I'm really ...</td>\n",
       "    </tr>\n",
       "    <tr>\n",
       "      <th>26</th>\n",
       "      <td>Ham</td>\n",
       "      <td>Lol your always so convincing.</td>\n",
       "    </tr>\n",
       "    <tr>\n",
       "      <th>27</th>\n",
       "      <td>Ham</td>\n",
       "      <td>Did you catch the bus ? Are you frying an egg ...</td>\n",
       "    </tr>\n",
       "    <tr>\n",
       "      <th>28</th>\n",
       "      <td>Ham</td>\n",
       "      <td>I'm back &amp;amp; we're packing the car now, I'll...</td>\n",
       "    </tr>\n",
       "    <tr>\n",
       "      <th>29</th>\n",
       "      <td>Ham</td>\n",
       "      <td>Ahhh. Work. I vaguely remember that! What does...</td>\n",
       "    </tr>\n",
       "    <tr>\n",
       "      <th>...</th>\n",
       "      <td>...</td>\n",
       "      <td>...</td>\n",
       "    </tr>\n",
       "    <tr>\n",
       "      <th>7542</th>\n",
       "      <td>Ham</td>\n",
       "      <td>And i angels nameless purple i nevermore on bu...</td>\n",
       "    </tr>\n",
       "    <tr>\n",
       "      <th>7543</th>\n",
       "      <td>Ham</td>\n",
       "      <td>Perched nevermore perfumed thy unseen for let ...</td>\n",
       "    </tr>\n",
       "    <tr>\n",
       "      <th>7544</th>\n",
       "      <td>Ham</td>\n",
       "      <td>Something outpour what and floor thee bust wea...</td>\n",
       "    </tr>\n",
       "    <tr>\n",
       "      <th>7545</th>\n",
       "      <td>Ham</td>\n",
       "      <td>Feather with muttered to flirt.  Is terrors an...</td>\n",
       "    </tr>\n",
       "    <tr>\n",
       "      <th>7546</th>\n",
       "      <td>Ham</td>\n",
       "      <td>A of nevermore his flung living so was this or...</td>\n",
       "    </tr>\n",
       "    <tr>\n",
       "      <th>7547</th>\n",
       "      <td>Ham</td>\n",
       "      <td>Was smiling word stood on what heard undaunted...</td>\n",
       "    </tr>\n",
       "    <tr>\n",
       "      <th>7548</th>\n",
       "      <td>Ham</td>\n",
       "      <td>Songs the before mien.  Said my was nepenthe a...</td>\n",
       "    </tr>\n",
       "    <tr>\n",
       "      <th>7549</th>\n",
       "      <td>Ham</td>\n",
       "      <td>Quoth he by.  Lies being as craven help there ...</td>\n",
       "    </tr>\n",
       "    <tr>\n",
       "      <th>7550</th>\n",
       "      <td>Ham</td>\n",
       "      <td>God nevermore ghastly this nepenthe.  Said tel...</td>\n",
       "    </tr>\n",
       "    <tr>\n",
       "      <th>7551</th>\n",
       "      <td>Ham</td>\n",
       "      <td>Gloating something for thy more quoth entreati...</td>\n",
       "    </tr>\n",
       "    <tr>\n",
       "      <th>7552</th>\n",
       "      <td>Ham</td>\n",
       "      <td>Or faster scarcely eagerly by as.  Hopes door ...</td>\n",
       "    </tr>\n",
       "    <tr>\n",
       "      <th>7553</th>\n",
       "      <td>Ham</td>\n",
       "      <td>Each just enchanted a and door ebony its deep ...</td>\n",
       "    </tr>\n",
       "    <tr>\n",
       "      <th>7554</th>\n",
       "      <td>Ham</td>\n",
       "      <td>A my the no nevermore sad ah.  This name omino...</td>\n",
       "    </tr>\n",
       "    <tr>\n",
       "      <th>7555</th>\n",
       "      <td>Ham</td>\n",
       "      <td>Above an tis.  And bleak wretch soul radiant h...</td>\n",
       "    </tr>\n",
       "    <tr>\n",
       "      <th>7556</th>\n",
       "      <td>Ham</td>\n",
       "      <td>Word the lattice i more and tis land the never...</td>\n",
       "    </tr>\n",
       "    <tr>\n",
       "      <th>7557</th>\n",
       "      <td>Ham</td>\n",
       "      <td>Me tempter soul fiend oer.  On with door of.  ...</td>\n",
       "    </tr>\n",
       "    <tr>\n",
       "      <th>7558</th>\n",
       "      <td>Ham</td>\n",
       "      <td>Gaunt flown floor of said his the and the thy ...</td>\n",
       "    </tr>\n",
       "    <tr>\n",
       "      <th>7559</th>\n",
       "      <td>Ham</td>\n",
       "      <td>Muttered youhere on what merely before than di...</td>\n",
       "    </tr>\n",
       "    <tr>\n",
       "      <th>7560</th>\n",
       "      <td>Ham</td>\n",
       "      <td>If the the days so i streaming the pallid more...</td>\n",
       "    </tr>\n",
       "    <tr>\n",
       "      <th>7561</th>\n",
       "      <td>Ham</td>\n",
       "      <td>I ever fearing stillness ominous vainly sainte...</td>\n",
       "    </tr>\n",
       "    <tr>\n",
       "      <th>7562</th>\n",
       "      <td>Ham</td>\n",
       "      <td>Velvet of i crest the with visiter a bust wond...</td>\n",
       "    </tr>\n",
       "    <tr>\n",
       "      <th>7563</th>\n",
       "      <td>Ham</td>\n",
       "      <td>A by i forget floating whether lost nevermore ...</td>\n",
       "    </tr>\n",
       "    <tr>\n",
       "      <th>7564</th>\n",
       "      <td>Ham</td>\n",
       "      <td>Door wrought shorn surely thy and only thereis...</td>\n",
       "    </tr>\n",
       "    <tr>\n",
       "      <th>7565</th>\n",
       "      <td>Ham</td>\n",
       "      <td>Soul above he whether metell dreaming bird at ...</td>\n",
       "    </tr>\n",
       "    <tr>\n",
       "      <th>7566</th>\n",
       "      <td>Ham</td>\n",
       "      <td>Dreaming or him my thee into radiant then i na...</td>\n",
       "    </tr>\n",
       "    <tr>\n",
       "      <th>7567</th>\n",
       "      <td>Ham</td>\n",
       "      <td>Soul more this tell sainted from my loneliness...</td>\n",
       "    </tr>\n",
       "    <tr>\n",
       "      <th>7568</th>\n",
       "      <td>Ham</td>\n",
       "      <td>The ungainly fact before word his gloated his ...</td>\n",
       "    </tr>\n",
       "    <tr>\n",
       "      <th>7569</th>\n",
       "      <td>Ham</td>\n",
       "      <td>Thee some and or nothing heard the of bust.  M...</td>\n",
       "    </tr>\n",
       "    <tr>\n",
       "      <th>7570</th>\n",
       "      <td>Ham</td>\n",
       "      <td>At no take but sorrow shall floor chamber tapp...</td>\n",
       "    </tr>\n",
       "    <tr>\n",
       "      <th>7571</th>\n",
       "      <td>Ham</td>\n",
       "      <td>Yet lamplight i again.  Whether land living ra...</td>\n",
       "    </tr>\n",
       "  </tbody>\n",
       "</table>\n",
       "<p>7572 rows × 2 columns</p>\n",
       "</div>"
      ],
      "text/plain": [
       "      type                                              email\n",
       "0      Ham  Go until jurong point, crazy.. Available only ...\n",
       "1      Ham                      Ok lar... Joking wif u oni...\n",
       "2     Spam  Free entry in 2 a wkly comp to win FA Cup fina...\n",
       "3      Ham  U dun say so early hor... U c already then say...\n",
       "4      Ham  Nah I don't think he goes to usf, he lives aro...\n",
       "5     Spam  FreeMsg Hey there darling it's been 3 week's n...\n",
       "6      Ham  Even my brother is not like to speak with me. ...\n",
       "7      Ham  As per your request 'Melle Melle (Oru Minnamin...\n",
       "8     Spam  WINNER!! As a valued network customer you have...\n",
       "9     Spam  Had your mobile 11 months or more? U R entitle...\n",
       "10     Ham  I'm gonna be home soon and i don't want to tal...\n",
       "11    Spam  SIX chances to win CASH! From 100 to 20,000 po...\n",
       "12    Spam  URGENT! You have won a 1 week FREE membership ...\n",
       "13     Ham  I've been searching for the right words to tha...\n",
       "14     Ham                I HAVE A DATE ON SUNDAY WITH WILL!!\n",
       "15    Spam  XXXMobileMovieClub: To use your credit, click ...\n",
       "16     Ham                         Oh k...i'm watching here:)\n",
       "17     Ham  Eh u remember how 2 spell his name... Yes i di...\n",
       "18     Ham  Fine if thatåÕs the way u feel. ThatåÕs the wa...\n",
       "19    Spam  England v Macedonia - dont miss the goals/team...\n",
       "20     Ham          Is that seriously how you spell his name?\n",
       "21     Ham  IÛ÷m going to try for 2 months ha ha only joking\n",
       "22     Ham  So Ì_ pay first lar... Then when is da stock c...\n",
       "23     Ham  Aft i finish my lunch then i go str down lor. ...\n",
       "24     Ham  Ffffffffff. Alright no way I can meet up with ...\n",
       "25     Ham  Just forced myself to eat a slice. I'm really ...\n",
       "26     Ham                     Lol your always so convincing.\n",
       "27     Ham  Did you catch the bus ? Are you frying an egg ...\n",
       "28     Ham  I'm back &amp; we're packing the car now, I'll...\n",
       "29     Ham  Ahhh. Work. I vaguely remember that! What does...\n",
       "...    ...                                                ...\n",
       "7542   Ham  And i angels nameless purple i nevermore on bu...\n",
       "7543   Ham  Perched nevermore perfumed thy unseen for let ...\n",
       "7544   Ham  Something outpour what and floor thee bust wea...\n",
       "7545   Ham  Feather with muttered to flirt.  Is terrors an...\n",
       "7546   Ham  A of nevermore his flung living so was this or...\n",
       "7547   Ham  Was smiling word stood on what heard undaunted...\n",
       "7548   Ham  Songs the before mien.  Said my was nepenthe a...\n",
       "7549   Ham  Quoth he by.  Lies being as craven help there ...\n",
       "7550   Ham  God nevermore ghastly this nepenthe.  Said tel...\n",
       "7551   Ham  Gloating something for thy more quoth entreati...\n",
       "7552   Ham  Or faster scarcely eagerly by as.  Hopes door ...\n",
       "7553   Ham  Each just enchanted a and door ebony its deep ...\n",
       "7554   Ham  A my the no nevermore sad ah.  This name omino...\n",
       "7555   Ham  Above an tis.  And bleak wretch soul radiant h...\n",
       "7556   Ham  Word the lattice i more and tis land the never...\n",
       "7557   Ham  Me tempter soul fiend oer.  On with door of.  ...\n",
       "7558   Ham  Gaunt flown floor of said his the and the thy ...\n",
       "7559   Ham  Muttered youhere on what merely before than di...\n",
       "7560   Ham  If the the days so i streaming the pallid more...\n",
       "7561   Ham  I ever fearing stillness ominous vainly sainte...\n",
       "7562   Ham  Velvet of i crest the with visiter a bust wond...\n",
       "7563   Ham  A by i forget floating whether lost nevermore ...\n",
       "7564   Ham  Door wrought shorn surely thy and only thereis...\n",
       "7565   Ham  Soul above he whether metell dreaming bird at ...\n",
       "7566   Ham  Dreaming or him my thee into radiant then i na...\n",
       "7567   Ham  Soul more this tell sainted from my loneliness...\n",
       "7568   Ham  The ungainly fact before word his gloated his ...\n",
       "7569   Ham  Thee some and or nothing heard the of bust.  M...\n",
       "7570   Ham  At no take but sorrow shall floor chamber tapp...\n",
       "7571   Ham  Yet lamplight i again.  Whether land living ra...\n",
       "\n",
       "[7572 rows x 2 columns]"
      ]
     },
     "execution_count": 3,
     "metadata": {},
     "output_type": "execute_result"
    }
   ],
   "source": [
    "dataset"
   ]
  },
  {
   "cell_type": "code",
   "execution_count": 4,
   "metadata": {},
   "outputs": [
    {
     "data": {
      "text/plain": [
       "(7572, 2)"
      ]
     },
     "execution_count": 4,
     "metadata": {},
     "output_type": "execute_result"
    }
   ],
   "source": [
    "dataset.shape"
   ]
  },
  {
   "cell_type": "code",
   "execution_count": 5,
   "metadata": {},
   "outputs": [
    {
     "data": {
      "text/html": [
       "<div>\n",
       "<style scoped>\n",
       "    .dataframe tbody tr th:only-of-type {\n",
       "        vertical-align: middle;\n",
       "    }\n",
       "\n",
       "    .dataframe tbody tr th {\n",
       "        vertical-align: top;\n",
       "    }\n",
       "\n",
       "    .dataframe thead th {\n",
       "        text-align: right;\n",
       "    }\n",
       "</style>\n",
       "<table border=\"1\" class=\"dataframe\">\n",
       "  <thead>\n",
       "    <tr style=\"text-align: right;\">\n",
       "      <th></th>\n",
       "      <th>type</th>\n",
       "      <th>email</th>\n",
       "    </tr>\n",
       "  </thead>\n",
       "  <tbody>\n",
       "    <tr>\n",
       "      <th>0</th>\n",
       "      <td>Ham</td>\n",
       "      <td>Go until jurong point, crazy.. Available only ...</td>\n",
       "    </tr>\n",
       "    <tr>\n",
       "      <th>1</th>\n",
       "      <td>Ham</td>\n",
       "      <td>Ok lar... Joking wif u oni...</td>\n",
       "    </tr>\n",
       "    <tr>\n",
       "      <th>2</th>\n",
       "      <td>Spam</td>\n",
       "      <td>Free entry in 2 a wkly comp to win FA Cup fina...</td>\n",
       "    </tr>\n",
       "    <tr>\n",
       "      <th>3</th>\n",
       "      <td>Ham</td>\n",
       "      <td>U dun say so early hor... U c already then say...</td>\n",
       "    </tr>\n",
       "    <tr>\n",
       "      <th>4</th>\n",
       "      <td>Ham</td>\n",
       "      <td>Nah I don't think he goes to usf, he lives aro...</td>\n",
       "    </tr>\n",
       "  </tbody>\n",
       "</table>\n",
       "</div>"
      ],
      "text/plain": [
       "   type                                              email\n",
       "0   Ham  Go until jurong point, crazy.. Available only ...\n",
       "1   Ham                      Ok lar... Joking wif u oni...\n",
       "2  Spam  Free entry in 2 a wkly comp to win FA Cup fina...\n",
       "3   Ham  U dun say so early hor... U c already then say...\n",
       "4   Ham  Nah I don't think he goes to usf, he lives aro..."
      ]
     },
     "execution_count": 5,
     "metadata": {},
     "output_type": "execute_result"
    }
   ],
   "source": [
    "dataset.head()"
   ]
  },
  {
   "cell_type": "code",
   "execution_count": 6,
   "metadata": {},
   "outputs": [
    {
     "data": {
      "text/html": [
       "<div>\n",
       "<style scoped>\n",
       "    .dataframe tbody tr th:only-of-type {\n",
       "        vertical-align: middle;\n",
       "    }\n",
       "\n",
       "    .dataframe tbody tr th {\n",
       "        vertical-align: top;\n",
       "    }\n",
       "\n",
       "    .dataframe thead tr th {\n",
       "        text-align: left;\n",
       "    }\n",
       "\n",
       "    .dataframe thead tr:last-of-type th {\n",
       "        text-align: right;\n",
       "    }\n",
       "</style>\n",
       "<table border=\"1\" class=\"dataframe\">\n",
       "  <thead>\n",
       "    <tr>\n",
       "      <th></th>\n",
       "      <th colspan=\"4\" halign=\"left\">email</th>\n",
       "    </tr>\n",
       "    <tr>\n",
       "      <th></th>\n",
       "      <th>count</th>\n",
       "      <th>unique</th>\n",
       "      <th>top</th>\n",
       "      <th>freq</th>\n",
       "    </tr>\n",
       "    <tr>\n",
       "      <th>type</th>\n",
       "      <th></th>\n",
       "      <th></th>\n",
       "      <th></th>\n",
       "      <th></th>\n",
       "    </tr>\n",
       "  </thead>\n",
       "  <tbody>\n",
       "    <tr>\n",
       "      <th>Ham</th>\n",
       "      <td>5838</td>\n",
       "      <td>5529</td>\n",
       "      <td>Sorry, I'll call later</td>\n",
       "      <td>30</td>\n",
       "    </tr>\n",
       "    <tr>\n",
       "      <th>Spam</th>\n",
       "      <td>1734</td>\n",
       "      <td>1640</td>\n",
       "      <td>Please call our customer service representativ...</td>\n",
       "      <td>4</td>\n",
       "    </tr>\n",
       "  </tbody>\n",
       "</table>\n",
       "</div>"
      ],
      "text/plain": [
       "     email                                                               \n",
       "     count unique                                                top freq\n",
       "type                                                                     \n",
       "Ham   5838   5529                             Sorry, I'll call later   30\n",
       "Spam  1734   1640  Please call our customer service representativ...    4"
      ]
     },
     "execution_count": 6,
     "metadata": {},
     "output_type": "execute_result"
    }
   ],
   "source": [
    "dataset.groupby('type').describe()"
   ]
  },
  {
   "cell_type": "code",
   "execution_count": 7,
   "metadata": {},
   "outputs": [
    {
     "data": {
      "text/plain": [
       "<matplotlib.axes._subplots.AxesSubplot at 0x1f15debe1d0>"
      ]
     },
     "execution_count": 7,
     "metadata": {},
     "output_type": "execute_result"
    },
    {
     "data": {
      "image/png": "[encoded data removed]",
      "text/plain": [
       "<Figure size 432x288 with 1 Axes>"
      ]
     },
     "metadata": {
      "needs_background": "light"
     },
     "output_type": "display_data"
    }
   ],
   "source": [
    "sns.countplot(dataset['type'])"
   ]
  },
  {
   "cell_type": "code",
   "execution_count": 8,
   "metadata": {},
   "outputs": [],
   "source": [
    "stop_words = set(stopwords.words(\"english\"))\n",
    "ps = PorterStemmer()\n",
    "corpus = []"
   ]
  },
  {
   "cell_type": "code",
   "execution_count": null,
   "metadata": {},
   "outputs": [],
   "source": []
  },
  {
   "cell_type": "code",
   "execution_count": 9,
   "metadata": {},
   "outputs": [],
   "source": [
    "for i in range(0,7572):\n",
    "    review = re.sub('[^a-zA-Z]',' ',dataset['email'][i])\n",
    "    review = review.lower()\n",
    "    review = review.split()\n",
    "\n",
    "    s = [word for word in review if word not in stop_words]\n",
    "    s = [ps.stem(word) for word in s]\n",
    "    s = \" \".join(s)\n",
    "    corpus.append(s)"
   ]
  },
  {
   "cell_type": "code",
   "execution_count": 10,
   "metadata": {},
   "outputs": [],
   "source": [
    "from sklearn.feature_extraction.text import CountVectorizer\n",
    "vectorizer = CountVectorizer(max_features=5000)\n",
    "features = vectorizer.fit_transform(corpus).toarray()"
   ]
  },
  {
   "cell_type": "code",
   "execution_count": 11,
   "metadata": {},
   "outputs": [
    {
     "data": {
      "text/plain": [
       "(7572, 5000)"
      ]
     },
     "execution_count": 11,
     "metadata": {},
     "output_type": "execute_result"
    }
   ],
   "source": [
    "features.shape"
   ]
  },
  {
   "cell_type": "code",
   "execution_count": 12,
   "metadata": {},
   "outputs": [],
   "source": [
    "from sklearn.preprocessing import LabelEncoder\n",
    "le = LabelEncoder()\n",
    "labels = le.fit_transform(dataset['type'])"
   ]
  },
  {
   "cell_type": "code",
   "execution_count": 13,
   "metadata": {
    "scrolled": true
   },
   "outputs": [
    {
     "name": "stdout",
     "output_type": "stream",
     "text": [
      "0        Ham\n",
      "1        Ham\n",
      "2       Spam\n",
      "3        Ham\n",
      "4        Ham\n",
      "5       Spam\n",
      "6        Ham\n",
      "7        Ham\n",
      "8       Spam\n",
      "9       Spam\n",
      "10       Ham\n",
      "11      Spam\n",
      "12      Spam\n",
      "13       Ham\n",
      "14       Ham\n",
      "15      Spam\n",
      "16       Ham\n",
      "17       Ham\n",
      "18       Ham\n",
      "19      Spam\n",
      "20       Ham\n",
      "21       Ham\n",
      "22       Ham\n",
      "23       Ham\n",
      "24       Ham\n",
      "25       Ham\n",
      "26       Ham\n",
      "27       Ham\n",
      "28       Ham\n",
      "29       Ham\n",
      "        ... \n",
      "7542     Ham\n",
      "7543     Ham\n",
      "7544     Ham\n",
      "7545     Ham\n",
      "7546     Ham\n",
      "7547     Ham\n",
      "7548     Ham\n",
      "7549     Ham\n",
      "7550     Ham\n",
      "7551     Ham\n",
      "7552     Ham\n",
      "7553     Ham\n",
      "7554     Ham\n",
      "7555     Ham\n",
      "7556     Ham\n",
      "7557     Ham\n",
      "7558     Ham\n",
      "7559     Ham\n",
      "7560     Ham\n",
      "7561     Ham\n",
      "7562     Ham\n",
      "7563     Ham\n",
      "7564     Ham\n",
      "7565     Ham\n",
      "7566     Ham\n",
      "7567     Ham\n",
      "7568     Ham\n",
      "7569     Ham\n",
      "7570     Ham\n",
      "7571     Ham\n",
      "Name: type, Length: 7572, dtype: object\n"
     ]
    }
   ],
   "source": [
    "print(dataset[\"type\"])"
   ]
  },
  {
   "cell_type": "code",
   "execution_count": 14,
   "metadata": {},
   "outputs": [
    {
     "name": "stdout",
     "output_type": "stream",
     "text": [
      "[0 0 1 0 0 1 0 0 1 1 0 1 1 0 0 1 0 0 0 1 0 0 0 0 0 0 0 0 0 0 0 0 0 0 1 0 0\n",
      " 0 0 0 0 0 1 0 0 0 0 0 0 0 0 0 0 0 1 0 1 0 0 0 0 0 0 0 0 1 0 1 1 0 0 0 0 0\n",
      " 0 0 0 0 0 0 0 0 0 0 0 0 0 0 0 0 0 0 0 1 0 1 0 0 0 0 0 0 0 0 0 0 0 0 0 0 0\n",
      " 0 0 1 0 0 1 0 0 1 1 0 1 0 0 0 0 0 0 0 0 0 0 1 1 0 0 0 1 0 0 0 0 0 0 0 1 0\n",
      " 0 0 0 0 0 0 0 0 0 0 1 1 0 0 0 1 1 0 1 0 0 0 0 0 0 0 0 0 0 0 0 0 0 0 0 0 0\n",
      " 0 0 1 0 0 1 0 0 0 0 0 0 0 0 0 0 0 0 0 0 0 0 0 0 0 0 0 0 0 0 0 0 0 0 0 0 0\n",
      " 0 0 1 0 1 0 0 0 0 0 0 0 1 0 0 0 0 1 0 0 0 0 0 0 0 0 0 1]\n"
     ]
    }
   ],
   "source": [
    "print(labels[0:250])"
   ]
  },
  {
   "cell_type": "code",
   "execution_count": 15,
   "metadata": {},
   "outputs": [],
   "source": [
    "from sklearn.model_selection import train_test_split\n",
    "features_train,features_test,labels_train,labels_test = train_test_split(features,labels,test_size=0.2,random_state=0)"
   ]
  },
  {
   "cell_type": "code",
   "execution_count": 16,
   "metadata": {},
   "outputs": [
    {
     "name": "stdout",
     "output_type": "stream",
     "text": [
      "[[0 0 0 ... 0 0 0]\n",
      " [0 0 0 ... 0 0 0]\n",
      " [0 0 0 ... 0 0 0]\n",
      " ...\n",
      " [0 0 0 ... 0 0 0]\n",
      " [0 0 0 ... 0 0 0]\n",
      " [0 0 0 ... 0 0 0]]\n"
     ]
    }
   ],
   "source": [
    "print(features_train)"
   ]
  },
  {
   "cell_type": "code",
   "execution_count": 17,
   "metadata": {},
   "outputs": [
    {
     "name": "stdout",
     "output_type": "stream",
     "text": [
      "(6057, 5000)\n"
     ]
    }
   ],
   "source": [
    "print(features_train.shape)"
   ]
  },
  {
   "cell_type": "code",
   "execution_count": 18,
   "metadata": {},
   "outputs": [
    {
     "data": {
      "text/plain": [
       "MultinomialNB(alpha=1.0, class_prior=None, fit_prior=True)"
      ]
     },
     "execution_count": 18,
     "metadata": {},
     "output_type": "execute_result"
    }
   ],
   "source": [
    "# Naive Bayes Classification\n",
    "# from sklearn.naive_bayes import GaussianNB\n",
    "# classifier = GaussianNB()\n",
    "# classifier.fit(features_train,labels_train)\n",
    "\n",
    "# Multinomial Naive Bayes\n",
    "from sklearn.naive_bayes import MultinomialNB\n",
    "classifier = MultinomialNB()\n",
    "classifier.fit(features_train,labels_train)\n",
    "\n",
    "# Bernauli Naive Bayes\n",
    "# from sklearn.naive_bayes import BernoulliNB\n",
    "# classifier = BernoulliNB()\n",
    "# classifier.fit(features_train,labels_train)"
   ]
  },
  {
   "cell_type": "code",
   "execution_count": 19,
   "metadata": {},
   "outputs": [],
   "source": [
    "labels_pred = classifier.predict(features_test)"
   ]
  },
  {
   "cell_type": "code",
   "execution_count": 20,
   "metadata": {},
   "outputs": [
    {
     "data": {
      "image/png": "[encoded data removed]",
      "text/plain": [
       "<Figure size 432x288 with 2 Axes>"
      ]
     },
     "metadata": {
      "needs_background": "light"
     },
     "output_type": "display_data"
    }
   ],
   "source": [
    "from sklearn.metrics import confusion_matrix\n",
    "cm = confusion_matrix(labels_test,labels_pred)\n",
    "sns.heatmap(cm,annot=True)\n",
    "plt.show()\n"
   ]
  },
  {
   "cell_type": "code",
   "execution_count": 21,
   "metadata": {},
   "outputs": [
    {
     "name": "stdout",
     "output_type": "stream",
     "text": [
      "              precision    recall  f1-score   support\n",
      "\n",
      "           0       0.97      0.96      0.96      1171\n",
      "           1       0.86      0.90      0.88       344\n",
      "\n",
      "   micro avg       0.95      0.95      0.95      1515\n",
      "   macro avg       0.92      0.93      0.92      1515\n",
      "weighted avg       0.95      0.95      0.95      1515\n",
      "\n"
     ]
    }
   ],
   "source": [
    "from sklearn.metrics import classification_report\n",
    "print(classification_report(labels_test,labels_pred))"
   ]
  },
  {
   "cell_type": "code",
   "execution_count": 22,
   "metadata": {},
   "outputs": [],
   "source": [
    "from sklearn.model_selection import cross_val_score\n",
    "accuracies = cross_val_score(estimator=classifier,X=features_train,y=labels_train,cv= 10)"
   ]
  },
  {
   "cell_type": "code",
   "execution_count": 23,
   "metadata": {},
   "outputs": [
    {
     "data": {
      "text/plain": [
       "array([0.93729373, 0.96039604, 0.9620462 , 0.95709571, 0.95379538,\n",
       "       0.95049505, 0.94389439, 0.9553719 , 0.95371901, 0.96363636])"
      ]
     },
     "execution_count": 23,
     "metadata": {},
     "output_type": "execute_result"
    }
   ],
   "source": [
    "accuracies"
   ]
  },
  {
   "cell_type": "code",
   "execution_count": 24,
   "metadata": {},
   "outputs": [
    {
     "data": {
      "text/plain": [
       "0.9537743774377437"
      ]
     },
     "execution_count": 24,
     "metadata": {},
     "output_type": "execute_result"
    }
   ],
   "source": [
    "accuracies.mean()"
   ]
  },
  {
   "cell_type": "code",
   "execution_count": 25,
   "metadata": {},
   "outputs": [],
   "source": [
    "from sklearn.model_selection import GridSearchCV\n",
    "parameters = {'alpha':[1,1.5,1.6,1.7,1.8,1.9,2.0,2.1,2.2,2.4,1.4,1.3,1.2,0.5,0.1,0],'fit_prior':[True,False]}\n",
    "grid = GridSearchCV(estimator=classifier,param_grid=parameters,scoring='accuracy',n_jobs=-1,cv = 10)"
   ]
  },
  {
   "cell_type": "code",
   "execution_count": 26,
   "metadata": {},
   "outputs": [],
   "source": [
    "grid = grid.fit(features_train,labels_train)"
   ]
  },
  {
   "cell_type": "code",
   "execution_count": 27,
   "metadata": {},
   "outputs": [
    {
     "data": {
      "text/plain": [
       "0.9572395575367344"
      ]
     },
     "execution_count": 27,
     "metadata": {},
     "output_type": "execute_result"
    }
   ],
   "source": [
    "grid.best_score_"
   ]
  },
  {
   "cell_type": "code",
   "execution_count": 28,
   "metadata": {},
   "outputs": [
    {
     "data": {
      "text/plain": [
       "{'alpha': 0.1, 'fit_prior': True}"
      ]
     },
     "execution_count": 28,
     "metadata": {},
     "output_type": "execute_result"
    }
   ],
   "source": [
    "grid.best_params_"
   ]
  },
  {
   "cell_type": "code",
   "execution_count": 29,
   "metadata": {},
   "outputs": [],
   "source": [
    "y_pred = grid.predict(features_test)"
   ]
  },
  {
   "cell_type": "code",
   "execution_count": 30,
   "metadata": {},
   "outputs": [
    {
     "name": "stdout",
     "output_type": "stream",
     "text": [
      "[[1129   42]\n",
      " [  32  312]]\n"
     ]
    },
    {
     "data": {
      "text/plain": [
       "<matplotlib.axes._subplots.AxesSubplot at 0x1f10e781080>"
      ]
     },
     "execution_count": 30,
     "metadata": {},
     "output_type": "execute_result"
    },
    {
     "data": {
      "image/png": "[encoded data removed]",
      "text/plain": [
       "<Figure size 432x288 with 2 Axes>"
      ]
     },
     "metadata": {
      "needs_background": "light"
     },
     "output_type": "display_data"
    }
   ],
   "source": [
    "cma = confusion_matrix(labels_test,y_pred)\n",
    "print(cma)\n",
    "sns.heatmap(cma,annot=True)"
   ]
  },
  {
   "cell_type": "code",
   "execution_count": null,
   "metadata": {},
   "outputs": [],
   "source": []
  },
  {
   "cell_type": "code",
   "execution_count": null,
   "metadata": {},
   "outputs": [],
   "source": []
  },
  {
   "cell_type": "code",
   "execution_count": null,
   "metadata": {},
   "outputs": [],
   "source": []
  },
  {
   "cell_type": "code",
   "execution_count": null,
   "metadata": {},
   "outputs": [],
   "source": []
  },
  {
   "cell_type": "code",
   "execution_count": null,
   "metadata": {},
   "outputs": [],
   "source": []
  },
  {
   "cell_type": "code",
   "execution_count": null,
   "metadata": {},
   "outputs": [],
   "source": []
  },
  {
   "cell_type": "code",
   "execution_count": 36,
   "metadata": {},
   "outputs": [
    {
     "name": "stdout",
     "output_type": "stream",
     "text": [
      "Enter a email :free books available\n"
     ]
    }
   ],
   "source": [
    "\n",
    "\n",
    "mail = input(\"Enter a email :\")"
   ]
  },
  {
   "cell_type": "code",
   "execution_count": 37,
   "metadata": {},
   "outputs": [],
   "source": [
    "review1 = re.sub('[^a-zA-Z]',' ',mail)\n",
    "review1 = review1.lower()\n",
    "review1 = review1.split()\n",
    "s1 = [word for word in review1 if word not in stop_words]\n",
    "s1 = [ps.stem(word) for word in s1]\n",
    "s1 = \" \".join(s1)"
   ]
  },
  {
   "cell_type": "code",
   "execution_count": 38,
   "metadata": {},
   "outputs": [
    {
     "data": {
      "text/plain": [
       "'free book avail'"
      ]
     },
     "execution_count": 38,
     "metadata": {},
     "output_type": "execute_result"
    }
   ],
   "source": [
    "s1"
   ]
  },
  {
   "cell_type": "code",
   "execution_count": 39,
   "metadata": {},
   "outputs": [],
   "source": [
    "feature = vectorizer.transform([s1]).toarray()"
   ]
  },
  {
   "cell_type": "code",
   "execution_count": 40,
   "metadata": {},
   "outputs": [
    {
     "data": {
      "text/plain": [
       "array([0])"
      ]
     },
     "execution_count": 40,
     "metadata": {},
     "output_type": "execute_result"
    }
   ],
   "source": [
    "grid.predict(feature)"
   ]
  },
  {
   "cell_type": "code",
   "execution_count": null,
   "metadata": {},
   "outputs": [],
   "source": []
  }
 ],
 "metadata": {
  "kernelspec": {
   "display_name": "Python 3",
   "language": "python",
   "name": "python3"
  },
  "language_info": {
   "codemirror_mode": {
    "name": "ipython",
    "version": 3
   },
   "file_extension": ".py",
   "mimetype": "text/x-python",
   "name": "python",
   "nbconvert_exporter": "python",
   "pygments_lexer": "ipython3",
   "version": "3.7.1"
  }
 },
 "nbformat": 4,
 "nbformat_minor": 2
}
